{
 "cells": [
  {
   "cell_type": "code",
   "execution_count": 1,
   "id": "0073e956",
   "metadata": {},
   "outputs": [],
   "source": [
    "import numpy as np\n",
    "import pandas as pd\n",
    "import tensorflow as tf\n",
    "import matplotlib.pyplot as plt\n",
    "from skimage import io\n",
    "from skimage.feature import hog"
   ]
  },
  {
   "cell_type": "code",
   "execution_count": 31,
   "id": "804abde3",
   "metadata": {},
   "outputs": [
    {
     "name": "stdout",
     "output_type": "stream",
     "text": [
      "Found 22968 images belonging to 7 classes.\n",
      "Found 5741 images belonging to 7 classes.\n",
      "Found 7178 images belonging to 7 classes.\n"
     ]
    }
   ],
   "source": [
    "##IMPORTING DATA\n",
    "train_dir = \"fer2013/train/\"\n",
    "test_dir = \"fer2013/test/\"\n",
    "\n",
    "train_dataGenerator = tf.keras.preprocessing.image.ImageDataGenerator(rescale=1./255,\n",
    "                                                               horizontal_flip=True,\n",
    "                                                               validation_split=0.2)\n",
    "training_data = train_dataGenerator.flow_from_directory(train_dir,\n",
    "                                                        batch_size=64,\n",
    "                                                        target_size=(48,48),\n",
    "                                                        color_mode=\"grayscale\", \n",
    "                                                        shuffle=True,\n",
    "                                                        class_mode='categorical',\n",
    "                                                        subset='training')\n",
    "validation_data = train_dataGenerator.flow_from_directory(train_dir,\n",
    "                                                        batch_size=64,\n",
    "                                                        target_size=(48,48),\n",
    "                                                        color_mode=\"grayscale\", \n",
    "                                                        shuffle=True,\n",
    "                                                        class_mode='categorical',\n",
    "                                                        subset='validation')\n",
    "\n",
    "test_dataGenerator = tf.keras.preprocessing.image.ImageDataGenerator(rescale=1./255,\n",
    "                                                              horizontal_flip=True)\n",
    "test_data = test_dataGenerator.flow_from_directory(test_dir,\n",
    "                                                  batch_size=64,\n",
    "                                                  target_size=(48,48),\n",
    "                                                  color_mode=\"grayscale\",\n",
    "                                                  shuffle=True,\n",
    "                                                  class_mode=\"categorical\")"
   ]
  },
  {
   "cell_type": "code",
   "execution_count": 4,
   "id": "5c99ac95",
   "metadata": {},
   "outputs": [],
   "source": [
    "##MODEL\n",
    "def create_model():\n",
    "    weight_decay = 1e-4\n",
    "    model = tf.keras.models.Sequential()\n",
    "\n",
    "    model.add(tf.keras.layers.Conv2D(64, (4, 4), padding='same', kernel_regularizer=tf.keras.regularizers.l2(weight_decay), input_shape=(48, 48, 1)))\n",
    "    model.add(tf.keras.layers.Activation('relu'))\n",
    "    model.add(tf.keras.layers.BatchNormalization())\n",
    "    model.add(tf.keras.layers.Conv2D(64, (4, 4), padding='same', kernel_regularizer=tf.keras.regularizers.l2(weight_decay)))\n",
    "    model.add(tf.keras.layers.Activation('relu'))\n",
    "    model.add(tf.keras.layers.BatchNormalization())\n",
    "    model.add(tf.keras.layers.MaxPool2D(pool_size=(2, 2)))\n",
    "    model.add(tf.keras.layers.Dropout(0.2))\n",
    "\n",
    "    model.add(tf.keras.layers.Conv2D(128, (4, 4), padding='same', kernel_regularizer=tf.keras.regularizers.l2(weight_decay)))\n",
    "    model.add(tf.keras.layers.Activation('relu'))\n",
    "    model.add(tf.keras.layers.BatchNormalization())\n",
    "    model.add(tf.keras.layers.MaxPool2D(pool_size=(2, 2)))\n",
    "    model.add(tf.keras.layers.Dropout(0.3))\n",
    "    \n",
    "    model.add(tf.keras.layers.Conv2D(128, (4, 4), padding='same', kernel_regularizer=tf.keras.regularizers.l2(weight_decay)))\n",
    "    model.add(tf.keras.layers.Activation('relu'))\n",
    "    model.add(tf.keras.layers.BatchNormalization())\n",
    "    model.add(tf.keras.layers.Conv2D(128, (4, 4), padding='same', kernel_regularizer=tf.keras.regularizers.l2(weight_decay)))\n",
    "    model.add(tf.keras.layers.Activation('relu'))\n",
    "    model.add(tf.keras.layers.BatchNormalization())\n",
    "    model.add(tf.keras.layers.MaxPool2D(pool_size=(2, 2)))\n",
    "    model.add(tf.keras.layers.Dropout(0.4))\n",
    "    model.add(tf.keras.layers.Flatten())\n",
    "    model.add(tf.keras.layers.Dense(128, activation=\"linear\"))\n",
    "    model.add(tf.keras.layers.Activation('relu'))\n",
    "    model.add(tf.keras.layers.Dense(7, activation='softmax'))\n",
    "    \n",
    "    return model"
   ]
  },
  {
   "cell_type": "code",
   "execution_count": 5,
   "id": "12d3afee",
   "metadata": {
    "scrolled": true
   },
   "outputs": [
    {
     "name": "stderr",
     "output_type": "stream",
     "text": [
      "2023-06-23 13:04:34.898599: I tensorflow/core/common_runtime/pluggable_device/pluggable_device_factory.cc:305] Could not identify NUMA node of platform GPU ID 0, defaulting to 0. Your kernel may not have been built with NUMA support.\n",
      "2023-06-23 13:04:34.898947: I tensorflow/core/common_runtime/pluggable_device/pluggable_device_factory.cc:271] Created TensorFlow device (/job:localhost/replica:0/task:0/device:GPU:0 with 0 MB memory) -> physical PluggableDevice (device: 0, name: METAL, pci bus id: <undefined>)\n"
     ]
    },
    {
     "name": "stdout",
     "output_type": "stream",
     "text": [
      "Metal device set to: Apple M1 Max\n"
     ]
    }
   ],
   "source": [
    "model = create_model()\n",
    "\n",
    "model.compile(loss='categorical_crossentropy', optimizer=tf.keras.optimizers.Adam(0.0003), metrics=[\"accuracy\"])"
   ]
  },
  {
   "cell_type": "code",
   "execution_count": 7,
   "id": "ea8a92a8",
   "metadata": {},
   "outputs": [],
   "source": [
    "checkpointer = [tf.keras.callbacks.EarlyStopping(monitor = 'val_accuracy', verbose = 1, restore_best_weights=True, mode=\"max\",patience = 10),\n",
    "                tf.keras.callbacks.ModelCheckpoint(\n",
    "                    filepath='final_model_weights.hdf5',\n",
    "                    monitor=\"val_accuracy\",\n",
    "                    verbose=1,\n",
    "                    save_best_only=True,\n",
    "                    mode=\"max\")]"
   ]
  },
  {
   "cell_type": "code",
   "execution_count": 9,
   "id": "bee61265",
   "metadata": {},
   "outputs": [],
   "source": [
    "steps_per_epoch = training_data.n // training_data.batch_size\n",
    "validation_steps = validation_data.n // validation_data.batch_size"
   ]
  },
  {
   "cell_type": "code",
   "execution_count": 10,
   "id": "e5b66901",
   "metadata": {},
   "outputs": [
    {
     "name": "stdout",
     "output_type": "stream",
     "text": [
      "Epoch 1/50\n"
     ]
    },
    {
     "name": "stderr",
     "output_type": "stream",
     "text": [
      "2023-06-23 13:15:42.263539: W tensorflow/core/platform/profile_utils/cpu_utils.cc:128] Failed to get CPU frequency: 0 Hz\n",
      "2023-06-23 13:15:42.576732: I tensorflow/core/grappler/optimizers/custom_graph_optimizer_registry.cc:113] Plugin optimizer for device_type GPU is enabled.\n"
     ]
    },
    {
     "name": "stdout",
     "output_type": "stream",
     "text": [
      "357/358 [============================>.] - ETA: 0s - loss: 1.8001 - accuracy: 0.3141"
     ]
    },
    {
     "name": "stderr",
     "output_type": "stream",
     "text": [
      "2023-06-23 13:15:59.738100: I tensorflow/core/grappler/optimizers/custom_graph_optimizer_registry.cc:113] Plugin optimizer for device_type GPU is enabled.\n"
     ]
    },
    {
     "name": "stdout",
     "output_type": "stream",
     "text": [
      "358/358 [==============================] - 19s 39ms/step - loss: 1.7996 - accuracy: 0.3142 - val_loss: 1.9002 - val_accuracy: 0.2330\n",
      "Epoch 2/50\n",
      "358/358 [==============================] - 13s 36ms/step - loss: 1.5406 - accuracy: 0.4180 - val_loss: 1.4754 - val_accuracy: 0.4445\n",
      "Epoch 3/50\n",
      "358/358 [==============================] - 14s 38ms/step - loss: 1.4169 - accuracy: 0.4698 - val_loss: 1.3597 - val_accuracy: 0.4872\n",
      "Epoch 4/50\n",
      "358/358 [==============================] - 13s 37ms/step - loss: 1.3250 - accuracy: 0.5089 - val_loss: 1.2935 - val_accuracy: 0.5214\n",
      "Epoch 5/50\n",
      "358/358 [==============================] - 13s 37ms/step - loss: 1.2529 - accuracy: 0.5402 - val_loss: 1.2622 - val_accuracy: 0.5307\n",
      "Epoch 6/50\n",
      "358/358 [==============================] - 13s 36ms/step - loss: 1.2066 - accuracy: 0.5582 - val_loss: 1.3190 - val_accuracy: 0.5114\n",
      "Epoch 7/50\n",
      "358/358 [==============================] - 13s 36ms/step - loss: 1.1644 - accuracy: 0.5785 - val_loss: 1.1859 - val_accuracy: 0.5690\n",
      "Epoch 8/50\n",
      "358/358 [==============================] - 13s 36ms/step - loss: 1.1237 - accuracy: 0.5948 - val_loss: 1.2751 - val_accuracy: 0.5421\n",
      "Epoch 9/50\n",
      "358/358 [==============================] - 13s 36ms/step - loss: 1.0881 - accuracy: 0.6051 - val_loss: 1.1971 - val_accuracy: 0.5825\n",
      "Epoch 10/50\n",
      "358/358 [==============================] - 13s 36ms/step - loss: 1.0473 - accuracy: 0.6271 - val_loss: 1.1524 - val_accuracy: 0.5904\n",
      "Epoch 11/50\n",
      "358/358 [==============================] - 13s 36ms/step - loss: 1.0239 - accuracy: 0.6359 - val_loss: 1.1323 - val_accuracy: 0.5939\n",
      "Epoch 12/50\n",
      "358/358 [==============================] - 13s 36ms/step - loss: 0.9945 - accuracy: 0.6499 - val_loss: 1.1768 - val_accuracy: 0.5787\n",
      "Epoch 13/50\n",
      "358/358 [==============================] - 13s 37ms/step - loss: 0.9656 - accuracy: 0.6598 - val_loss: 1.1701 - val_accuracy: 0.5930\n",
      "Epoch 14/50\n",
      "358/358 [==============================] - 13s 38ms/step - loss: 0.9449 - accuracy: 0.6689 - val_loss: 1.1655 - val_accuracy: 0.5908\n",
      "Epoch 15/50\n",
      "358/358 [==============================] - 14s 38ms/step - loss: 0.9153 - accuracy: 0.6819 - val_loss: 1.1199 - val_accuracy: 0.6092\n",
      "Epoch 16/50\n",
      "358/358 [==============================] - 14s 39ms/step - loss: 0.8828 - accuracy: 0.6937 - val_loss: 1.1444 - val_accuracy: 0.6148\n",
      "Epoch 17/50\n",
      "358/358 [==============================] - 14s 40ms/step - loss: 0.8574 - accuracy: 0.7063 - val_loss: 1.1708 - val_accuracy: 0.6004\n",
      "Epoch 18/50\n",
      "358/358 [==============================] - 15s 41ms/step - loss: 0.8361 - accuracy: 0.7148 - val_loss: 1.1764 - val_accuracy: 0.5962\n",
      "Epoch 19/50\n",
      "358/358 [==============================] - 14s 40ms/step - loss: 0.8160 - accuracy: 0.7207 - val_loss: 1.1794 - val_accuracy: 0.6111\n",
      "Epoch 20/50\n",
      "358/358 [==============================] - 15s 41ms/step - loss: 0.7872 - accuracy: 0.7337 - val_loss: 1.1405 - val_accuracy: 0.6231\n",
      "Epoch 21/50\n",
      "358/358 [==============================] - 14s 40ms/step - loss: 0.7743 - accuracy: 0.7414 - val_loss: 1.1804 - val_accuracy: 0.6087\n",
      "Epoch 22/50\n",
      "358/358 [==============================] - 14s 39ms/step - loss: 0.7548 - accuracy: 0.7479 - val_loss: 1.1688 - val_accuracy: 0.6225\n",
      "Epoch 23/50\n",
      "358/358 [==============================] - 14s 40ms/step - loss: 0.7239 - accuracy: 0.7627 - val_loss: 1.2042 - val_accuracy: 0.6110\n",
      "Epoch 24/50\n",
      "358/358 [==============================] - 14s 38ms/step - loss: 0.7095 - accuracy: 0.7655 - val_loss: 1.1735 - val_accuracy: 0.6287\n",
      "Epoch 25/50\n",
      "358/358 [==============================] - 13s 37ms/step - loss: 0.6902 - accuracy: 0.7743 - val_loss: 1.2083 - val_accuracy: 0.6164\n",
      "Epoch 26/50\n",
      "358/358 [==============================] - 13s 36ms/step - loss: 0.6685 - accuracy: 0.7826 - val_loss: 1.2065 - val_accuracy: 0.6264\n",
      "Epoch 27/50\n",
      "358/358 [==============================] - 13s 37ms/step - loss: 0.6505 - accuracy: 0.7905 - val_loss: 1.2393 - val_accuracy: 0.6201\n",
      "Epoch 28/50\n",
      "358/358 [==============================] - 13s 36ms/step - loss: 0.6438 - accuracy: 0.7950 - val_loss: 1.2578 - val_accuracy: 0.6155\n",
      "Epoch 29/50\n",
      "358/358 [==============================] - 13s 37ms/step - loss: 0.6124 - accuracy: 0.8086 - val_loss: 1.2694 - val_accuracy: 0.6268\n",
      "Epoch 30/50\n",
      "358/358 [==============================] - 13s 36ms/step - loss: 0.6104 - accuracy: 0.8074 - val_loss: 1.3604 - val_accuracy: 0.5955\n",
      "Epoch 31/50\n",
      "358/358 [==============================] - 13s 37ms/step - loss: 0.5848 - accuracy: 0.8151 - val_loss: 1.2643 - val_accuracy: 0.6245\n",
      "Epoch 32/50\n",
      "358/358 [==============================] - 13s 37ms/step - loss: 0.5705 - accuracy: 0.8264 - val_loss: 1.3376 - val_accuracy: 0.6204\n",
      "Epoch 33/50\n",
      "358/358 [==============================] - 13s 37ms/step - loss: 0.5634 - accuracy: 0.8292 - val_loss: 1.3301 - val_accuracy: 0.6206\n",
      "Epoch 34/50\n",
      "358/358 [==============================] - 13s 37ms/step - loss: 0.5597 - accuracy: 0.8309 - val_loss: 1.3369 - val_accuracy: 0.6155\n",
      "Epoch 35/50\n",
      "358/358 [==============================] - 13s 36ms/step - loss: 0.5378 - accuracy: 0.8382 - val_loss: 1.3561 - val_accuracy: 0.6239\n",
      "Epoch 36/50\n",
      "358/358 [==============================] - 13s 36ms/step - loss: 0.5239 - accuracy: 0.8434 - val_loss: 1.4253 - val_accuracy: 0.6206\n",
      "Epoch 37/50\n",
      "358/358 [==============================] - 13s 36ms/step - loss: 0.5116 - accuracy: 0.8484 - val_loss: 1.4201 - val_accuracy: 0.6178\n",
      "Epoch 38/50\n",
      "358/358 [==============================] - 13s 37ms/step - loss: 0.5143 - accuracy: 0.8501 - val_loss: 1.3982 - val_accuracy: 0.6246\n",
      "Epoch 39/50\n",
      "358/358 [==============================] - 14s 38ms/step - loss: 0.5034 - accuracy: 0.8537 - val_loss: 1.3840 - val_accuracy: 0.6283\n",
      "Epoch 40/50\n",
      "358/358 [==============================] - 14s 38ms/step - loss: 0.4883 - accuracy: 0.8586 - val_loss: 1.4170 - val_accuracy: 0.6282\n",
      "Epoch 41/50\n",
      "358/358 [==============================] - 14s 38ms/step - loss: 0.4856 - accuracy: 0.8614 - val_loss: 1.4336 - val_accuracy: 0.6125\n",
      "Epoch 42/50\n",
      "358/358 [==============================] - 14s 38ms/step - loss: 0.4659 - accuracy: 0.8682 - val_loss: 1.4694 - val_accuracy: 0.6255\n",
      "Epoch 43/50\n",
      "358/358 [==============================] - 14s 38ms/step - loss: 0.4707 - accuracy: 0.8671 - val_loss: 1.4669 - val_accuracy: 0.6261\n",
      "Epoch 44/50\n",
      "358/358 [==============================] - 14s 39ms/step - loss: 0.4645 - accuracy: 0.8707 - val_loss: 1.4949 - val_accuracy: 0.6296\n",
      "Epoch 45/50\n",
      "358/358 [==============================] - 14s 39ms/step - loss: 0.4535 - accuracy: 0.8748 - val_loss: 1.5095 - val_accuracy: 0.6192\n",
      "Epoch 46/50\n",
      "358/358 [==============================] - 14s 39ms/step - loss: 0.4418 - accuracy: 0.8797 - val_loss: 1.5110 - val_accuracy: 0.6220\n",
      "Epoch 47/50\n",
      "358/358 [==============================] - 14s 39ms/step - loss: 0.4400 - accuracy: 0.8801 - val_loss: 1.5724 - val_accuracy: 0.6269\n",
      "Epoch 48/50\n",
      "358/358 [==============================] - 14s 39ms/step - loss: 0.4362 - accuracy: 0.8837 - val_loss: 1.5377 - val_accuracy: 0.6280\n",
      "Epoch 49/50\n",
      "358/358 [==============================] - 750s 2s/step - loss: 0.4249 - accuracy: 0.8882 - val_loss: 1.5990 - val_accuracy: 0.6311\n",
      "Epoch 50/50\n",
      "358/358 [==============================] - 13s 36ms/step - loss: 0.4257 - accuracy: 0.8890 - val_loss: 1.6051 - val_accuracy: 0.6208\n"
     ]
    }
   ],
   "source": [
    "history = model.fit(x=training_data,\n",
    "                   validation_data=validation_data,\n",
    "                   epochs=50,\n",
    "                   steps_per_epoch=steps_per_epoch,\n",
    "                   validation_steps=validation_steps)"
   ]
  },
  {
   "cell_type": "code",
   "execution_count": 14,
   "id": "b8674fb7",
   "metadata": {},
   "outputs": [
    {
     "data": {
      "image/png": "[encoded data removed]",
      "text/plain": [
       "<Figure size 640x480 with 1 Axes>"
      ]
     },
     "metadata": {},
     "output_type": "display_data"
    }
   ],
   "source": [
    "accuracy = history.history[\"accuracy\"]\n",
    "val_accuracy = history.history[\"val_accuracy\"]\n",
    "epoch_count = range(1, len(accuracy) + 1)\n",
    "\n",
    "plt.plot(epoch_count, accuracy, \"r\")\n",
    "plt.plot(epoch_count, val_accuracy, \"b\", )\n",
    "plt.legend([\"Training Accuracy\", \"Validation Accuracy\"])\n",
    "plt.xlabel(\"Epochs\")\n",
    "plt.ylabel(\"Accuracy\")\n",
    "plt.show()"
   ]
  },
  {
   "cell_type": "code",
   "execution_count": 17,
   "id": "d196a2a7",
   "metadata": {},
   "outputs": [
    {
     "name": "stdout",
     "output_type": "stream",
     "text": [
      "112/112 [==============================] - 1s 13ms/step - loss: 1.5926 - accuracy: 0.6251\n"
     ]
    },
    {
     "data": {
      "text/plain": [
       "62.51395344734192"
      ]
     },
     "execution_count": 17,
     "metadata": {},
     "output_type": "execute_result"
    }
   ],
   "source": [
    "test_accuracy = model.evaluate(test_data, batch_size=test_data.batch_size, steps=test_data.n//test_data.batch_size)\n",
    "printf(\"Pure CNN\", test_accuracy[1]*100)"
   ]
  },
  {
   "cell_type": "code",
   "execution_count": 18,
   "id": "7aa09184",
   "metadata": {},
   "outputs": [],
   "source": [
    "##IMPLEMENTING HOG"
   ]
  },
  {
   "cell_type": "code",
   "execution_count": 38,
   "id": "543b8176",
   "metadata": {},
   "outputs": [],
   "source": [
    "def hog(directory_iterator):\n",
    "    hog_features, hog_image = hog(image, orientations=8, pixels_per_cell=(16, 16),\n",
    "                     cells_per_block=(1, 1), visualize=True, channel_axis=-1)\n",
    "    yield hog_features"
   ]
  }
 ],
 "metadata": {
  "kernelspec": {
   "display_name": "Python 3 (ipykernel)",
   "language": "python",
   "name": "python3"
  },
  "language_info": {
   "codemirror_mode": {
    "name": "ipython",
    "version": 3
   },
   "file_extension": ".py",
   "mimetype": "text/x-python",
   "name": "python",
   "nbconvert_exporter": "python",
   "pygments_lexer": "ipython3",
   "version": "3.9.16"
  }
 },
 "nbformat": 4,
 "nbformat_minor": 5
}
